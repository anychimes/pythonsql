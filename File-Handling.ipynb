{
 "cells": [
  {
   "cell_type": "code",
   "execution_count": 2,
   "metadata": {},
   "outputs": [
    {
     "name": "stdout",
     "output_type": "stream",
     "text": [
      "File not found or path is incorrect\n",
      "exit\n"
     ]
    }
   ],
   "source": [
    "# Program to check if file exists\n",
    "\n",
    "try:\n",
    "    my_file_handle=open(\"pyfolder/test.txt\")\n",
    "except IOError:\n",
    "    print(\"File not found or path is incorrect\")\n",
    "finally:\n",
    "    print(\"exit\")"
   ]
  },
  {
   "cell_type": "code",
   "execution_count": 9,
   "metadata": {},
   "outputs": [
    {
     "name": "stdout",
     "output_type": "stream",
     "text": [
      "File written\n"
     ]
    }
   ],
   "source": [
    "# Program to write to a file \n",
    "\n",
    "try:\n",
    "    new_file=open(\"pyfolder/test.txt\",mode=\"w\")\n",
    "    new_file.write(\"Writing to a new file\\n\")\n",
    "    new_file.write(\"Writing to a new file\\n\")\n",
    "    new_file.write(\"Writing to a new file\\n\")\n",
    "    new_file.close()\n",
    "except IOError:\n",
    "    print(\"File not found or path is incorrect\")\n",
    "finally:\n",
    "    print(\"File written\")"
   ]
  },
  {
   "cell_type": "code",
   "execution_count": 18,
   "metadata": {},
   "outputs": [
    {
     "name": "stdout",
     "output_type": "stream",
     "text": [
      "{'fruit': 'Apple', 'size': 'Large', 'color': 'Red'}\n",
      "File read done\n"
     ]
    }
   ],
   "source": [
    "# Program to read a json file\n",
    "\n",
    "import json\n",
    "\n",
    "try:\n",
    "    with open(\"pyfolder/countries.json\",\"r\") as f:\n",
    "        jsondata=json.load(f)\n",
    "        print(jsondata)\n",
    "    f.close()\n",
    "except IOError:\n",
    "    print(\"File not found or path is incorrect\")\n",
    "finally:\n",
    "    print(\"File read done\")"
   ]
  },
  {
   "cell_type": "code",
   "execution_count": 17,
   "metadata": {},
   "outputs": [],
   "source": [
    "import json\n",
    "\n",
    "my_data={\n",
    "    \"fruit\": \"Apple\",\n",
    "    \"size\": \"Large\",\n",
    "    \"color\": \"Red\"\n",
    "}\n",
    "with open(\"pyfolder/countries.json\",\"w\") as f:\n",
    "    json.dump(my_data,f)\n",
    "f.close()"
   ]
  },
  {
   "cell_type": "code",
   "execution_count": 21,
   "metadata": {},
   "outputs": [
    {
     "name": "stdout",
     "output_type": "stream",
     "text": [
      "{'fruit': 'Apple', 'size': 'Large', 'color': 'Red'}\n"
     ]
    }
   ],
   "source": [
    "# Program to write to a json file and then read the file \n",
    "\n",
    "import json\n",
    "\n",
    "my_data={\n",
    "    \"fruit\": \"Apple\",\n",
    "    \"size\": \"Large\",\n",
    "    \"color\": \"Red\"\n",
    "}\n",
    "\n",
    "with open(\"pyfolder/countries.json\",\"w+\") as f:\n",
    "    json.dump(my_data,f)\n",
    "    f.seek(0)\n",
    "    jsondata=json.load(f)\n",
    "    print(jsondata)    \n",
    "f.close()"
   ]
  },
  {
   "cell_type": "code",
   "execution_count": null,
   "metadata": {
    "collapsed": true
   },
   "outputs": [],
   "source": []
  }
 ],
 "metadata": {
  "kernelspec": {
   "display_name": "Python 3",
   "language": "python",
   "name": "python3"
  },
  "language_info": {
   "codemirror_mode": {
    "name": "ipython",
    "version": 3
   },
   "file_extension": ".py",
   "mimetype": "text/x-python",
   "name": "python",
   "nbconvert_exporter": "python",
   "pygments_lexer": "ipython3",
   "version": "3.6.3"
  }
 },
 "nbformat": 4,
 "nbformat_minor": 2
}
