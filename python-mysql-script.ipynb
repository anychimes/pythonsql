{
 "cells": [
  {
   "cell_type": "code",
   "execution_count": 2,
   "metadata": {},
   "outputs": [
    {
     "name": "stdout",
     "output_type": "stream",
     "text": [
      "<mysql.connector.connection.MySQLConnection object at 0x0000026FBA83B7F0>\n"
     ]
    }
   ],
   "source": [
    "## Connecting to the database\n",
    "\n",
    "## importing 'mysql.connector' as mysql for convenient\n",
    "import mysql.connector as mysql\n",
    "\n",
    "## connecting to the database using 'connect()' method\n",
    "## it takes 3 required parameters 'host', 'user', 'passwd'\n",
    "db = mysql.connect(\n",
    "    host = \"localhost\",\n",
    "    user = \"root\",\n",
    "    passwd = \"Mysql@1234\",\n",
    "    auth_plugin='mysql_native_password'    ## In MySQL 8.0, caching_sha2_password is the default authentication plugin rather than mysql_native_password.\n",
    ")\n",
    "\n",
    "print(db) # it will print a connection object if everything is fine"
   ]
  },
  {
   "cell_type": "code",
   "execution_count": 16,
   "metadata": {},
   "outputs": [
    {
     "name": "stdout",
     "output_type": "stream",
     "text": [
      "[('information_schema',), ('mysql',), ('performance_schema',), ('sys',), ('testdb',)]\n",
      "\n",
      "\n",
      "List of Database\n",
      "('information_schema',)\n",
      "('mysql',)\n",
      "('performance_schema',)\n",
      "('sys',)\n",
      "('testdb',)\n"
     ]
    }
   ],
   "source": [
    "## Display list of database\n",
    "\n",
    "import mysql.connector as mysql\n",
    "\n",
    "db = mysql.connect(\n",
    "    host = \"localhost\",\n",
    "    user = \"root\",\n",
    "    passwd = \"Mysql@1234\",\n",
    "    auth_plugin='mysql_native_password'  \n",
    ")\n",
    "\n",
    "cursor = db.cursor()\n",
    "\n",
    "## executing the statement using 'execute()' method\n",
    "cursor.execute(\"SHOW DATABASES\")\n",
    "\n",
    "## 'fetchall()' method fetches all the rows from the last executed statement\n",
    "databases = cursor.fetchall() ## it returns a list of all databases present\n",
    "## The fetchall() method fetches all (or all remaining) rows of a query result set and returns a list of tuples.\n",
    "\n",
    "## printing the list of databases\n",
    "print(databases)\n",
    "print('\\n')\n",
    "print('List of Database')\n",
    "## showing one by one database\n",
    "for database in databases:\n",
    "    print(database)"
   ]
  },
  {
   "cell_type": "code",
   "execution_count": 6,
   "metadata": {},
   "outputs": [
    {
     "name": "stdout",
     "output_type": "stream",
     "text": [
      "DATABASE testdb created\n"
     ]
    }
   ],
   "source": [
    "## Creating a database\n",
    "\n",
    "import mysql.connector as mysql\n",
    "\n",
    "db = mysql.connect(\n",
    "    host = \"localhost\",\n",
    "    user = \"root\",\n",
    "    passwd = \"Mysql@1234\",\n",
    "    auth_plugin='mysql_native_password'  \n",
    ")\n",
    "\n",
    "## creating an instance of 'cursor' class which is used to execute the 'SQL' statements in 'Python'\n",
    "cursor = db.cursor()\n",
    "sql=\"CREATE DATABASE testdb\"\n",
    "## creating a databse called 'testdb'\n",
    "## 'execute()' method is used to compile a 'SQL' statement\n",
    "## below statement is used to create tha 'testdb' database\n",
    "cursor.execute(sql)\n",
    "print(\"DATABASE testdb created\")\n"
   ]
  },
  {
   "cell_type": "code",
   "execution_count": 4,
   "metadata": {},
   "outputs": [
    {
     "name": "stdout",
     "output_type": "stream",
     "text": [
      "DATABASE testdb removed\n"
     ]
    }
   ],
   "source": [
    "## Remove a database\n",
    "\n",
    "import mysql.connector as mysql\n",
    "\n",
    "db = mysql.connect(\n",
    "    host = \"localhost\",\n",
    "    user = \"root\",\n",
    "    passwd = \"Mysql@1234\",\n",
    "    auth_plugin='mysql_native_password'  \n",
    ")\n",
    "\n",
    "## creating an instance of 'cursor' class which is used to execute the 'SQL' statements in 'Python'\n",
    "cursor = db.cursor()\n",
    "\n",
    "## creating a databse called 'testdb'\n",
    "## 'execute()' method is used to compile a 'SQL' statement\n",
    "## below statement is used to create tha 'testdb' database\n",
    "cursor.execute(\"DROP DATABASE testdb\")\n",
    "print(\"DATABASE testdb removed\")\n"
   ]
  },
  {
   "cell_type": "code",
   "execution_count": 7,
   "metadata": {},
   "outputs": [
    {
     "name": "stdout",
     "output_type": "stream",
     "text": [
      "TABLE employees created\n"
     ]
    }
   ],
   "source": [
    "## Creating a table in database\n",
    "\n",
    "import mysql.connector as mysql\n",
    "\n",
    "db = mysql.connect(\n",
    "    host = \"localhost\",\n",
    "    user = \"root\",\n",
    "    passwd = \"Mysql@1234\",\n",
    "    auth_plugin ='mysql_native_password',\n",
    "    database ='testdb'\n",
    ")\n",
    "\n",
    "cursor = db.cursor()\n",
    "\n",
    "## creating a table called 'employees' in the 'testdb' database\n",
    "cursor.execute(\"CREATE TABLE employees (empcode char(4), empname VARCHAR(255), age int, country VARCHAR(255))\")\n",
    "print(\"TABLE employees created\")"
   ]
  },
  {
   "cell_type": "code",
   "execution_count": 44,
   "metadata": {},
   "outputs": [
    {
     "name": "stdout",
     "output_type": "stream",
     "text": [
      "TABLE employees dropped\n"
     ]
    }
   ],
   "source": [
    "## Removing  a table in database\n",
    "\n",
    "import mysql.connector as mysql\n",
    "\n",
    "db = mysql.connect(\n",
    "    host = \"localhost\",\n",
    "    user = \"root\",\n",
    "    passwd = \"Mysql@1234\",\n",
    "    auth_plugin ='mysql_native_password',\n",
    "    database ='testdb'\n",
    ")\n",
    "\n",
    "cursor = db.cursor()\n",
    "\n",
    "## creating a table called 'employees' in the 'testdb' database\n",
    "cursor.execute(\"DROP TABLE employees \")\n",
    "print(\"TABLE employees dropped\")"
   ]
  },
  {
   "cell_type": "code",
   "execution_count": 8,
   "metadata": {},
   "outputs": [
    {
     "name": "stdout",
     "output_type": "stream",
     "text": [
      "('employees',)\n"
     ]
    }
   ],
   "source": [
    "## Display list of table in database\n",
    "\n",
    "import mysql.connector as mysql123\n",
    "\n",
    "db123 = mysql.connect(\n",
    "    host = \"localhost\",\n",
    "    user = \"root\",\n",
    "    passwd = \"Mysql@1234\",\n",
    "    auth_plugin ='mysql_native_password',\n",
    "    database ='testdb'\n",
    ")\n",
    "\n",
    "cursor123 = db123.cursor()\n",
    "\n",
    "## getting all the tables which are present in 'datacamp' database\n",
    "cursor123.execute(\"SHOW TABLES\")\n",
    "\n",
    "tables123 = cursor123.fetchall() ## it returns list of tables present in the database\n",
    "\n",
    "## showing all the tables one by one\n",
    "for table in tables123:\n",
    "    print(table)"
   ]
  },
  {
   "cell_type": "code",
   "execution_count": 9,
   "metadata": {},
   "outputs": [
    {
     "name": "stdout",
     "output_type": "stream",
     "text": [
      "TABLE employees dropped\n",
      "TABLE employees created\n"
     ]
    }
   ],
   "source": [
    "## removing  a table from database\n",
    "\n",
    "import mysql.connector as mysql\n",
    "\n",
    "db = mysql.connect(\n",
    "    host = \"localhost\",\n",
    "    user = \"root\",\n",
    "    passwd = \"Mysql@1234\",\n",
    "    auth_plugin ='mysql_native_password',\n",
    "    database ='testdb'\n",
    ")\n",
    "\n",
    "cursor = db.cursor()\n",
    "\n",
    "## first we have to 'drop' the table which has already created to create it again with the 'PRIMARY KEY'\n",
    "## 'DROP TABLE table_name' statement will drop the table from a database\n",
    "cursor.execute(\"DROP TABLE employees\")\n",
    "print(\"TABLE employees dropped\")\n",
    "## creating the 'users' table again with the 'PRIMARY KEY'\n",
    "cursor.execute(\"CREATE TABLE employees (empcode INT(11) NOT NULL AUTO_INCREMENT PRIMARY KEY, name VARCHAR(255), age int, country VARCHAR(255))\")\n",
    "print(\"TABLE employees created\")\n"
   ]
  },
  {
   "cell_type": "code",
   "execution_count": 32,
   "metadata": {},
   "outputs": [
    {
     "name": "stdout",
     "output_type": "stream",
     "text": [
      "[('empcode', b'int', 'NO', 'PRI', None, 'auto_increment'), ('name', b'varchar(255)', 'YES', '', None, ''), ('age', b'int', 'YES', '', None, ''), ('country', b'varchar(255)', 'YES', '', None, '')]\n"
     ]
    }
   ],
   "source": [
    "# Program to display the structure of a table\n",
    "\n",
    "import mysql.connector as mysql123\n",
    "\n",
    "db123 = mysql123.connect(\n",
    "    host = \"localhost\",\n",
    "    user = \"root\",\n",
    "    passwd = \"Mysql@1234\",\n",
    "    auth_plugin ='mysql_native_password',\n",
    "    database ='testdb'\n",
    ")\n",
    "\n",
    "cursor123 = db123.cursor()\n",
    "\n",
    "## 'DESC table_name' is used to get all columns information\n",
    "cursor123.execute(\"DESC employees\")\n",
    "\n",
    "## it will print all the columns as 'tuples' in a list\n",
    "print(cursor123.fetchall())"
   ]
  },
  {
   "cell_type": "code",
   "execution_count": 33,
   "metadata": {},
   "outputs": [
    {
     "name": "stdout",
     "output_type": "stream",
     "text": [
      "-1 record inserted\n"
     ]
    }
   ],
   "source": [
    "# Program to store data in a table\n",
    "\n",
    "import mysql.connector as mysql123\n",
    "\n",
    "db123 = mysql123.connect(\n",
    "    host = \"localhost\",\n",
    "    user = \"root\",\n",
    "    passwd = \"Mysql@1234\",\n",
    "    auth_plugin ='mysql_native_password',\n",
    "    database ='testdb'\n",
    ")\n",
    "\n",
    "cursor123 = db123.cursor()\n",
    "\n",
    "## defining the Query\n",
    "query123 = \"INSERT INTO employees (name, age, country) VALUES (%s, %s, %s)\"\n",
    "## storing values in a variable\n",
    "values123 = (\"Asok\", \"20\", \"India\")\n",
    "\n",
    "## executing the query with values\n",
    "cursor.execute(query123, values123)\n",
    "\n",
    "## to make final output we have to run the 'commit()' method of the database object\n",
    "db123.commit()\n",
    "\n",
    "print(cursor123.rowcount, \"record inserted\")"
   ]
  },
  {
   "cell_type": "code",
   "execution_count": 37,
   "metadata": {},
   "outputs": [
    {
     "name": "stdout",
     "output_type": "stream",
     "text": [
      "Total number of rows in employees is:  5\n",
      "\n",
      " Dislaying  each employee record\n",
      "(6, 'Akshay', 22, 'India')\n",
      "(3, 'Amy', 31, 'UK')\n",
      "(1, 'Asok', 20, 'India')\n",
      "(4, 'Michael', 30, 'Japan')\n"
     ]
    }
   ],
   "source": [
    "# Program to display data in a table\n",
    "\n",
    "import mysql.connector as mysql123\n",
    "from mysql.connector import Error\n",
    "\n",
    "try:\n",
    "    db123 = mysql123.connect(\n",
    "        host = \"localhost\",\n",
    "        user = \"root\",\n",
    "        passwd = \"Mysql@1234\",\n",
    "        auth_plugin ='mysql_native_password',\n",
    "        database ='testdb'\n",
    "    )\n",
    "\n",
    "    sql_select_Query123 = \"SELECT empcode, name, age, country FROM employees\"\n",
    "    cursor123 = db123.cursor()\n",
    "    cursor123.execute(sql_select_Query123)\n",
    "    records123 = cursor123.fetchall()\n",
    "    print(\"Total number of rows in employees is: \", cursor123.rowcount)\n",
    "\n",
    "    print(\"\\n Dislaying  each employee record\")\n",
    "#    for row123 in records123:\n",
    "#        print(\"Empcode = \", row123[0])\n",
    "#        print(\"Name = \", row123[1])\n",
    "#        print(\"Age  = \", row123[2])\n",
    "#        print(\"Country  = \", row123[3], \"\\n\")\n",
    "        \n",
    "#    for rec in records:\n",
    "#        print(rec)     \n",
    "\n",
    "    for a,b,c,d in records123:         # No of variables should match no of columns\n",
    "        print(\"Empcode  = \", a)\n",
    "        print(\"Name = \", b)\n",
    "        print(\"Age  = \", c)   \n",
    "    \n",
    "except Error as e123:\n",
    "    print(\"Error reading data from MySQL table\", e123)\n",
    "finally:\n",
    "    if (db123.is_connected()):\n",
    "        cursor123.close()\n",
    "        db123.close()"
   ]
  },
  {
   "cell_type": "code",
   "execution_count": 38,
   "metadata": {},
   "outputs": [
    {
     "name": "stdout",
     "output_type": "stream",
     "text": [
      "4 records inserted\n"
     ]
    }
   ],
   "source": [
    "# Program to store multiple  data in a table\n",
    "\n",
    "import mysql.connector as mysql123\n",
    "\n",
    "db123 = mysql123.connect(\n",
    "    host = \"localhost\",\n",
    "    user = \"root\",\n",
    "    passwd = \"Mysql@1234\",\n",
    "    auth_plugin ='mysql_native_password',\n",
    "    database ='testdb'\n",
    ")\n",
    "\n",
    "cursor123 = db.cursor()\n",
    "\n",
    "## defining the Query\n",
    "query123 = \"INSERT INTO employees (name, age, country) VALUES (%s, %s, %s)\"\n",
    "## storing values in a variable\n",
    "values123 = [\n",
    "    (\"Peter\", \"34\", \"US\"),\n",
    "    (\"Amy\", \"31\",\"UK\"),\n",
    "    (\"Michael\", \"30\", \"Japan\"),\n",
    "    (\"Hennah\", \"32\",\"Malayasia\")\n",
    "]\n",
    "\n",
    "## executing the query with values\n",
    "cursor123.executemany(query123, values123)\n",
    "\n",
    "## to make final output we have to run the 'commit()' method of the database object\n",
    "db123.commit()\n",
    "\n",
    "print(cursor123.rowcount, \"records inserted\")"
   ]
  },
  {
   "cell_type": "code",
   "execution_count": 48,
   "metadata": {},
   "outputs": [
    {
     "name": "stdout",
     "output_type": "stream",
     "text": [
      "(1, 'Asok', 20, 'India')\n",
      "(4, 'Michael', 30, 'Japan')\n",
      "(3, 'Amy', 31, 'UK')\n",
      "(2, 'Kareem', 38, 'US')\n"
     ]
    }
   ],
   "source": [
    "# Program to display  data from a table based on condition\n",
    "\n",
    "import mysql.connector as mysql123\n",
    "\n",
    "db123 = mysql123.connect(\n",
    "    host = \"localhost\",\n",
    "    user = \"root\",\n",
    "    passwd = \"Mysql@1234\",\n",
    "    auth_plugin ='mysql_native_password',\n",
    "    database ='testdb'\n",
    ")\n",
    "\n",
    "cursor123 = db123.cursor()\n",
    "\n",
    "## defining the Query\n",
    "query123 = \"SELECT * FROM employees  ORDER BY age \" \n",
    "##  SELECT * FROM <tablename>  WHERE <condition> ORDER BY <columnname>\n",
    "\n",
    "## WHERE is used to select data on some condition.\n",
    "##  ORDER BY to sort the result in ascending or descending order\n",
    "\n",
    "## getting records from the table\n",
    "cursor123.execute(query123)\n",
    "\n",
    "## fetching all records from the 'cursor' object\n",
    "records123 = cursor123.fetchall()\n",
    "\n",
    "## Showing the data\n",
    "for record123 in records123:\n",
    "    print(record123)"
   ]
  },
  {
   "cell_type": "code",
   "execution_count": 46,
   "metadata": {},
   "outputs": [
    {
     "name": "stdout",
     "output_type": "stream",
     "text": [
      "Employee code 6  deleted\n"
     ]
    }
   ],
   "source": [
    "# Program to delete data from a table \n",
    "\n",
    "import mysql.connector as mysql123\n",
    "\n",
    "db123 = mysql123.connect(\n",
    "    host = \"localhost\",\n",
    "    user = \"root\",\n",
    "    passwd = \"Mysql@1234\",\n",
    "    auth_plugin ='mysql_native_password',\n",
    "    database ='testdb'\n",
    ")\n",
    "\n",
    "cursor123 = db123.cursor()\n",
    "\n",
    "## defining the Query\n",
    "query123 = \"DELETE FROM employees WHERE empcode = 6\"\n",
    "\n",
    "## executing the query\n",
    "cursor123.execute(query123)\n",
    "\n",
    "## final step to tell the database that we have changed the table data\n",
    "db123.commit()\n",
    "print(\"Employee code 6  deleted\")"
   ]
  },
  {
   "cell_type": "code",
   "execution_count": 47,
   "metadata": {},
   "outputs": [
    {
     "name": "stdout",
     "output_type": "stream",
     "text": [
      "Employee code 2   updated\n"
     ]
    }
   ],
   "source": [
    "# Program to update data from a table\n",
    "\n",
    "import mysql.connector as mysql123\n",
    "\n",
    "db = mysql123.connect(\n",
    "    host = \"localhost\",\n",
    "    user = \"root\",\n",
    "    passwd = \"Mysql@1234\",\n",
    "    auth_plugin ='mysql_native_password',\n",
    "    database ='testdb'\n",
    ")\n",
    "\n",
    "cursor123 = db123.cursor()\n",
    "\n",
    "## defining the Query\n",
    "query123 = \"UPDATE employees SET name = 'Kareem', age=38 WHERE empcode = 2\"\n",
    "\n",
    "## executing the query\n",
    "cursor123.execute(query123)\n",
    "\n",
    "## final step to tell the database that we have changed the table data\n",
    "db123.commit()\n",
    "print(\"Employee code 2   updated\")"
   ]
  },
  {
   "cell_type": "code",
   "execution_count": null,
   "metadata": {},
   "outputs": [],
   "source": [
    "# Program to display data from a table based on user input \n",
    "\n",
    "#  bibhutidalai@gmail.com\n",
    "\n",
    "import mysql.connector as mysql123\n",
    "\n",
    "x123 = input()\n",
    "\n",
    "\n",
    "db123 = mysql.connect(\n",
    "    host = \"localhost\",\n",
    "    user = \"root\",\n",
    "    passwd = \"Mysql@1234\",\n",
    "    auth_plugin ='mysql_native_password',\n",
    "    database ='testdb'\n",
    ")\n",
    "\n",
    "cursor123 = db123.cursor()\n",
    "\n",
    "## defining the Query\n",
    "query123 = \"SELECT * FROM employees WHERE empcode=\"+x123\n",
    "\n",
    "## WHERE is used to select data on some condition.\n",
    "\n",
    "\n",
    "## getting records from the table\n",
    "cursor123.execute(query123)\n",
    "\n",
    "## fetching all records from the 'cursor' object\n",
    "records123 = cursor123.fetchall()\n",
    "ctr=cursor123.rowcount\n",
    "\n",
    "if ctr==0:\n",
    "    print(' Empcode not found')\n",
    "\n",
    "## Showing the data\n",
    "for record123 in records123:\n",
    "    print(record123)\n"
   ]
  },
  {
   "cell_type": "code",
   "execution_count": null,
   "metadata": {},
   "outputs": [],
   "source": [
    "# Program to accept input and add in table\n",
    "\n",
    "import mysql.connector as mysql\n",
    "\n",
    "print('Enter Name, Age , Country ')\n",
    "x = input()\n",
    "y=input()\n",
    "z=input()\n",
    "\n",
    "\n",
    "db = mysql.connect(\n",
    "    host = \"localhost\",\n",
    "    user = \"root\",\n",
    "    passwd = \"Mysql@1234\",\n",
    "    auth_plugin ='mysql_native_password',\n",
    "    database ='testdb'\n",
    ")\n",
    "\n",
    "cursor = db.cursor()\n",
    "\n",
    "## defining the Query\n",
    "query = \"INSERT INTO employees (name, age, country) VALUES (%s, %s, %s)\"\n",
    "## storing values in a variable\n",
    "values = (x, y, z)\n",
    "\n",
    "## executing the query with values\n",
    "cursor.execute(query, values)\n",
    "\n",
    "## to make final output we have to run the 'commit()' method of the database object\n",
    "db.commit()\n",
    "\n",
    "print(cursor.rowcount, \"record inserted\")"
   ]
  },
  {
   "cell_type": "code",
   "execution_count": 31,
   "metadata": {},
   "outputs": [
    {
     "name": "stdout",
     "output_type": "stream",
     "text": [
      "empcode name age country\n",
      " 6     Akshay  22 India\n",
      " 3        Amy  31    UK\n",
      " 1       Asok  20 India\n",
      " 4    Michael  30 Japan\n"
     ]
    }
   ],
   "source": [
    "import mysql.connector as mysql\n",
    "\n",
    "db = mysql.connect(\n",
    "    host = \"localhost\",\n",
    "    user = \"root\",\n",
    "    passwd = \"Mysql@1234\",\n",
    "    auth_plugin ='mysql_native_password',\n",
    "    database ='testdb'\n",
    ")\n",
    "\n",
    "cursor = db.cursor()\n",
    "\n",
    "## defining the Query\n",
    "query = \"SELECT * FROM employees WHERE age < 32 ORDER BY name \"    ## LIMIT 5\n",
    "\n",
    "#query = \"SELECT \\\n",
    "#  users.name AS user, \\\n",
    "#  products.name AS favorite \\\n",
    "#  FROM users \\\n",
    "#  INNER JOIN products ON users.fav = products.id\"\n",
    "\n",
    "## WHERE is used to select data on some condition.\n",
    "##  ORDER BY to sort the result in ascending or descending order\n",
    "\n",
    "## getting records from the table\n",
    "cursor.execute(query)\n",
    "\n",
    "## fetching all records from the 'cursor' object\n",
    "records = cursor.fetchall()\n",
    "desc = cursor.description\n",
    "\n",
    "print (\"%s %3s %3s %5s\" % (desc[0][0], desc[1][0], desc[2][0], desc[3][0]))\n",
    "## Showing the data\n",
    "for record in records:\n",
    "    print (\"%2s %10s %3s %5s\" % record)"
   ]
  },
  {
   "cell_type": "code",
   "execution_count": null,
   "metadata": {},
   "outputs": [],
   "source": []
  }
 ],
 "metadata": {
  "kernelspec": {
   "display_name": "Python 3",
   "language": "python",
   "name": "python3"
  },
  "language_info": {
   "codemirror_mode": {
    "name": "ipython",
    "version": 3
   },
   "file_extension": ".py",
   "mimetype": "text/x-python",
   "name": "python",
   "nbconvert_exporter": "python",
   "pygments_lexer": "ipython3",
   "version": "3.9.0"
  }
 },
 "nbformat": 4,
 "nbformat_minor": 2
}
