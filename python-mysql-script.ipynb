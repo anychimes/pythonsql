{
 "cells": [
  {
   "cell_type": "code",
   "execution_count": 80,
   "metadata": {},
   "outputs": [
    {
     "name": "stdout",
     "output_type": "stream",
     "text": [
      "<mysql.connector.connection.MySQLConnection object at 0x00000018E2FA3400>\n"
     ]
    }
   ],
   "source": [
    "## Connecting to the database\n",
    "\n",
    "## importing 'mysql.connector' as mysql for convenient\n",
    "import mysql.connector as mysql\n",
    "\n",
    "## connecting to the database using 'connect()' method\n",
    "## it takes 3 required parameters 'host', 'user', 'passwd'\n",
    "db = mysql.connect(\n",
    "    host = \"localhost\",\n",
    "    user = \"root\",\n",
    "    passwd = \"zspl@123\",\n",
    "    auth_plugin='mysql_native_password'             ## In MySQL 8.0, caching_sha2_password is the default authentication plugin rather than mysql_native_password.\n",
    ")\n",
    "\n",
    "print(db) # it will print a connection object if everything is fine"
   ]
  },
  {
   "cell_type": "code",
   "execution_count": 79,
   "metadata": {},
   "outputs": [
    {
     "name": "stdout",
     "output_type": "stream",
     "text": [
      "[('automate',), ('cms',), ('cms1',), ('csz',), ('drilldowndb',), ('ebudget',), ('expense',), ('fssm',), ('fusion',), ('harsha',), ('harshas',), ('homestead',), ('hr',), ('information_schema',), ('invoicefy',), ('jauto',), ('laravel_inventory',), ('mlm',), ('mlm2',), ('mysql',), ('newsportal',), ('nmotors',), ('october',), ('online_news',), ('performance_schema',), ('prince',), ('quiz_new',), ('sakila',), ('sentrifugo',), ('srms',), ('subrion',), ('subrion2',), ('sys',), ('testdb',)]\n",
      "('automate',)\n",
      "('cms',)\n",
      "('cms1',)\n",
      "('csz',)\n",
      "('drilldowndb',)\n",
      "('ebudget',)\n",
      "('expense',)\n",
      "('fssm',)\n",
      "('fusion',)\n",
      "('harsha',)\n",
      "('harshas',)\n",
      "('homestead',)\n",
      "('hr',)\n",
      "('information_schema',)\n",
      "('invoicefy',)\n",
      "('jauto',)\n",
      "('laravel_inventory',)\n",
      "('mlm',)\n",
      "('mlm2',)\n",
      "('mysql',)\n",
      "('newsportal',)\n",
      "('nmotors',)\n",
      "('october',)\n",
      "('online_news',)\n",
      "('performance_schema',)\n",
      "('prince',)\n",
      "('quiz_new',)\n",
      "('sakila',)\n",
      "('sentrifugo',)\n",
      "('srms',)\n",
      "('subrion',)\n",
      "('subrion2',)\n",
      "('sys',)\n",
      "('testdb',)\n"
     ]
    }
   ],
   "source": [
    "## Display list of database\n",
    "\n",
    "import mysql.connector as mysql\n",
    "\n",
    "db = mysql.connect(\n",
    "    host = \"localhost\",\n",
    "    user = \"root\",\n",
    "    passwd = \"zspl@123\",\n",
    "    auth_plugin='mysql_native_password'  \n",
    ")\n",
    "\n",
    "cursor = db.cursor()\n",
    "\n",
    "## executing the statement using 'execute()' method\n",
    "cursor.execute(\"SHOW DATABASES\")\n",
    "\n",
    "## 'fetchall()' method fetches all the rows from the last executed statement\n",
    "databases = cursor.fetchall() ## it returns a list of all databases present\n",
    "\n",
    "## printing the list of databases\n",
    "print(databases)\n",
    "\n",
    "## showing one by one database\n",
    "for database in databases:\n",
    "    print(database)"
   ]
  },
  {
   "cell_type": "code",
   "execution_count": 41,
   "metadata": {},
   "outputs": [
    {
     "name": "stdout",
     "output_type": "stream",
     "text": [
      "DATABASE testdb created\n"
     ]
    }
   ],
   "source": [
    "## Creating a database\n",
    "\n",
    "import mysql.connector as mysql\n",
    "\n",
    "db = mysql.connect(\n",
    "    host = \"localhost\",\n",
    "    user = \"root\",\n",
    "    passwd = \"zspl@123\",\n",
    "    auth_plugin='mysql_native_password'  \n",
    ")\n",
    "\n",
    "## creating an instance of 'cursor' class which is used to execute the 'SQL' statements in 'Python'\n",
    "cursor = db.cursor()\n",
    "\n",
    "## creating a databse called 'testdb'\n",
    "## 'execute()' method is used to compile a 'SQL' statement\n",
    "## below statement is used to create tha 'testdb' database\n",
    "cursor.execute(\"CREATE DATABASE testdb\")\n",
    "print(\"DATABASE testdb created\")\n"
   ]
  },
  {
   "cell_type": "code",
   "execution_count": 40,
   "metadata": {},
   "outputs": [
    {
     "name": "stdout",
     "output_type": "stream",
     "text": [
      "DATABASE testdb removed\n"
     ]
    }
   ],
   "source": [
    "## Remove a database\n",
    "\n",
    "import mysql.connector as mysql\n",
    "\n",
    "db = mysql.connect(\n",
    "    host = \"localhost\",\n",
    "    user = \"root\",\n",
    "    passwd = \"zspl@123\",\n",
    "    auth_plugin='mysql_native_password'  \n",
    ")\n",
    "\n",
    "## creating an instance of 'cursor' class which is used to execute the 'SQL' statements in 'Python'\n",
    "cursor = db.cursor()\n",
    "\n",
    "## creating a databse called 'testdb'\n",
    "## 'execute()' method is used to compile a 'SQL' statement\n",
    "## below statement is used to create tha 'testdb' database\n",
    "cursor.execute(\"DROP DATABASE testdb\")\n",
    "print(\"DATABASE testdb removed\")\n"
   ]
  },
  {
   "cell_type": "code",
   "execution_count": 45,
   "metadata": {},
   "outputs": [
    {
     "name": "stdout",
     "output_type": "stream",
     "text": [
      "TABLE employees created\n"
     ]
    }
   ],
   "source": [
    "## Creating a table in database\n",
    "\n",
    "import mysql.connector as mysql\n",
    "\n",
    "db = mysql.connect(\n",
    "    host = \"localhost\",\n",
    "    user = \"root\",\n",
    "    passwd = \"zspl@123\",\n",
    "    auth_plugin ='mysql_native_password',\n",
    "    database ='testdb'\n",
    ")\n",
    "\n",
    "cursor = db.cursor()\n",
    "\n",
    "## creating a table called 'employees' in the 'testdb' database\n",
    "cursor.execute(\"CREATE TABLE employees (empcode char(4), empname VARCHAR(255), age int, country VARCHAR(255))\")\n",
    "print(\"TABLE employees created\")"
   ]
  },
  {
   "cell_type": "code",
   "execution_count": 44,
   "metadata": {},
   "outputs": [
    {
     "name": "stdout",
     "output_type": "stream",
     "text": [
      "TABLE employees dropped\n"
     ]
    }
   ],
   "source": [
    "## Removing  a table in database\n",
    "\n",
    "import mysql.connector as mysql\n",
    "\n",
    "db = mysql.connect(\n",
    "    host = \"localhost\",\n",
    "    user = \"root\",\n",
    "    passwd = \"zspl@123\",\n",
    "    auth_plugin ='mysql_native_password',\n",
    "    database ='testdb'\n",
    ")\n",
    "\n",
    "cursor = db.cursor()\n",
    "\n",
    "## creating a table called 'employees' in the 'testdb' database\n",
    "cursor.execute(\"DROP TABLE employees \")\n",
    "print(\"TABLE employees dropped\")"
   ]
  },
  {
   "cell_type": "code",
   "execution_count": 46,
   "metadata": {},
   "outputs": [
    {
     "name": "stdout",
     "output_type": "stream",
     "text": [
      "('employees',)\n"
     ]
    }
   ],
   "source": [
    "## Display list of table in database\n",
    "\n",
    "import mysql.connector as mysql\n",
    "\n",
    "db = mysql.connect(\n",
    "    host = \"localhost\",\n",
    "    user = \"root\",\n",
    "    passwd = \"zspl@123\",\n",
    "    auth_plugin ='mysql_native_password',\n",
    "    database ='testdb'\n",
    ")\n",
    "\n",
    "cursor = db.cursor()\n",
    "\n",
    "## getting all the tables which are present in 'datacamp' database\n",
    "cursor.execute(\"SHOW TABLES\")\n",
    "\n",
    "tables = cursor.fetchall() ## it returns list of tables present in the database\n",
    "\n",
    "## showing all the tables one by one\n",
    "for table in tables:\n",
    "    print(table)"
   ]
  },
  {
   "cell_type": "code",
   "execution_count": 47,
   "metadata": {},
   "outputs": [
    {
     "name": "stdout",
     "output_type": "stream",
     "text": [
      "TABLE employees dropped\n",
      "TABLE employees created\n"
     ]
    }
   ],
   "source": [
    "## removing  a table from database\n",
    "\n",
    "import mysql.connector as mysql\n",
    "\n",
    "db = mysql.connect(\n",
    "    host = \"localhost\",\n",
    "    user = \"root\",\n",
    "    passwd = \"zspl@123\",\n",
    "    auth_plugin ='mysql_native_password',\n",
    "    database ='testdb'\n",
    ")\n",
    "\n",
    "cursor = db.cursor()\n",
    "\n",
    "## first we have to 'drop' the table which has already created to create it again with the 'PRIMARY KEY'\n",
    "## 'DROP TABLE table_name' statement will drop the table from a database\n",
    "cursor.execute(\"DROP TABLE employees\")\n",
    "print(\"TABLE employees dropped\")\n",
    "## creating the 'users' table again with the 'PRIMARY KEY'\n",
    "cursor.execute(\"CREATE TABLE employees (empcode INT(11) NOT NULL AUTO_INCREMENT PRIMARY KEY, name VARCHAR(255), age int, country VARCHAR(255))\")\n",
    "print(\"TABLE employees created\")\n"
   ]
  },
  {
   "cell_type": "code",
   "execution_count": 48,
   "metadata": {},
   "outputs": [
    {
     "name": "stdout",
     "output_type": "stream",
     "text": [
      "[('empcode', b'int(11)', 'NO', bytearray(b'PRI'), None, 'auto_increment'), ('name', b'varchar(255)', 'YES', bytearray(b''), None, ''), ('age', b'int(11)', 'YES', bytearray(b''), None, ''), ('country', b'varchar(255)', 'YES', bytearray(b''), None, '')]\n"
     ]
    }
   ],
   "source": [
    "import mysql.connector as mysql\n",
    "\n",
    "db = mysql.connect(\n",
    "    host = \"localhost\",\n",
    "    user = \"root\",\n",
    "    passwd = \"zspl@123\",\n",
    "    auth_plugin ='mysql_native_password',\n",
    "    database ='testdb'\n",
    ")\n",
    "\n",
    "cursor = db.cursor()\n",
    "\n",
    "## 'DESC table_name' is used to get all columns information\n",
    "cursor.execute(\"DESC employees\")\n",
    "\n",
    "## it will print all the columns as 'tuples' in a list\n",
    "print(cursor.fetchall())"
   ]
  },
  {
   "cell_type": "code",
   "execution_count": 51,
   "metadata": {},
   "outputs": [
    {
     "name": "stdout",
     "output_type": "stream",
     "text": [
      "1 record inserted\n"
     ]
    }
   ],
   "source": [
    "import mysql.connector as mysql\n",
    "\n",
    "db = mysql.connect(\n",
    "    host = \"localhost\",\n",
    "    user = \"root\",\n",
    "    passwd = \"zspl@123\",\n",
    "    auth_plugin ='mysql_native_password',\n",
    "    database ='testdb'\n",
    ")\n",
    "\n",
    "cursor = db.cursor()\n",
    "\n",
    "## defining the Query\n",
    "query = \"INSERT INTO employees (name, age, country) VALUES (%s, %s, %s)\"\n",
    "## storing values in a variable\n",
    "values = (\"Asok\", \"20\", \"India\")\n",
    "\n",
    "## executing the query with values\n",
    "cursor.execute(query, values)\n",
    "\n",
    "## to make final output we have to run the 'commit()' method of the database object\n",
    "db.commit()\n",
    "\n",
    "print(cursor.rowcount, \"record inserted\")"
   ]
  },
  {
   "cell_type": "code",
   "execution_count": 81,
   "metadata": {},
   "outputs": [
    {
     "name": "stdout",
     "output_type": "stream",
     "text": [
      "Total number of rows in emplyees is:  4\n",
      "\n",
      " Dislaying  each employee record\n",
      "Empcode =  1\n",
      "Name =  Asok\n",
      "Age  =  20\n",
      "Country  =  India \n",
      "\n",
      "Empcode =  2\n",
      "Name =  Kareem\n",
      "Age  =  34\n",
      "Country  =  US \n",
      "\n",
      "Empcode =  3\n",
      "Name =  Amy\n",
      "Age  =  31\n",
      "Country  =  UK \n",
      "\n",
      "Empcode =  4\n",
      "Name =  Michael\n",
      "Age  =  30\n",
      "Country  =  Japan \n",
      "\n"
     ]
    }
   ],
   "source": [
    "import mysql.connector as mysql\n",
    "from mysql.connector import Error\n",
    "\n",
    "try:\n",
    "    db = mysql.connect(\n",
    "        host = \"localhost\",\n",
    "        user = \"root\",\n",
    "        passwd = \"zspl@123\",\n",
    "        auth_plugin ='mysql_native_password',\n",
    "        database ='testdb'\n",
    "    )\n",
    "\n",
    "    sql_select_Query = \"select empcode, name, age, country from employees\"\n",
    "    cursor = db.cursor()\n",
    "    cursor.execute(sql_select_Query)\n",
    "    records = cursor.fetchall()\n",
    "    print(\"Total number of rows in emplyees is: \", cursor.rowcount)\n",
    "\n",
    "    print(\"\\n Dislaying  each employee record\")\n",
    "    for row in records:\n",
    "        print(\"Empcode = \", row[0])\n",
    "        print(\"Name = \", row[1])\n",
    "        print(\"Age  = \", row[2])\n",
    "        print(\"Country  = \", row[3], \"\\n\")\n",
    "        \n",
    "#    for rec in records:\n",
    "#        print(rec)     \n",
    "\n",
    "#    for a,b,c,d in records:         # No of variables should match no of columns\n",
    "#        print(\"Empcode  = \", a)\n",
    "#        print(\"Name = \", b)\n",
    "#        print(\"Age  = \", c)   \n",
    "    \n",
    "except Error as e:\n",
    "    print(\"Error reading data from MySQL table\", e)\n",
    "finally:\n",
    "    if (db.is_connected()):\n",
    "        cursor.close()\n",
    "        db.close()"
   ]
  },
  {
   "cell_type": "code",
   "execution_count": 63,
   "metadata": {},
   "outputs": [
    {
     "name": "stdout",
     "output_type": "stream",
     "text": [
      "4 records inserted\n"
     ]
    }
   ],
   "source": [
    "import mysql.connector as mysql\n",
    "\n",
    "db = mysql.connect(\n",
    "    host = \"localhost\",\n",
    "    user = \"root\",\n",
    "    passwd = \"zspl@123\",\n",
    "    auth_plugin ='mysql_native_password',\n",
    "    database ='testdb'\n",
    ")\n",
    "\n",
    "cursor = db.cursor()\n",
    "\n",
    "## defining the Query\n",
    "query = \"INSERT INTO employees (name, age, country) VALUES (%s, %s, %s)\"\n",
    "## storing values in a variable\n",
    "values = [\n",
    "    (\"Peter\", \"34\", \"US\"),\n",
    "    (\"Amy\", \"31\",\"UK\"),\n",
    "    (\"Michael\", \"30\", \"Japan\"),\n",
    "    (\"Hennah\", \"32\",\"Malayasia\")\n",
    "]\n",
    "\n",
    "## executing the query with values\n",
    "cursor.executemany(query, values)\n",
    "\n",
    "## to make final output we have to run the 'commit()' method of the database object\n",
    "db.commit()\n",
    "\n",
    "print(cursor.rowcount, \"records inserted\")"
   ]
  },
  {
   "cell_type": "code",
   "execution_count": 73,
   "metadata": {},
   "outputs": [
    {
     "name": "stdout",
     "output_type": "stream",
     "text": [
      "(3, 'Amy', 31, 'UK')\n",
      "(1, 'Asok', 20, 'India')\n",
      "(4, 'Michael', 30, 'Japan')\n"
     ]
    }
   ],
   "source": [
    "import mysql.connector as mysql\n",
    "\n",
    "db = mysql.connect(\n",
    "    host = \"localhost\",\n",
    "    user = \"root\",\n",
    "    passwd = \"zspl@123\",\n",
    "    auth_plugin ='mysql_native_password',\n",
    "    database ='testdb'\n",
    ")\n",
    "\n",
    "cursor = db.cursor()\n",
    "\n",
    "## defining the Query\n",
    "query = \"SELECT * FROM employees WHERE age < 32 ORDER BY name \"   \n",
    "\n",
    "## WHERE is used to select data on some condition.\n",
    "##  ORDER BY to sort the result in ascending or descending order\n",
    "\n",
    "## getting records from the table\n",
    "cursor.execute(query)\n",
    "\n",
    "## fetching all records from the 'cursor' object\n",
    "records = cursor.fetchall()\n",
    "\n",
    "## Showing the data\n",
    "for record in records:\n",
    "    print(record)"
   ]
  },
  {
   "cell_type": "code",
   "execution_count": 75,
   "metadata": {},
   "outputs": [
    {
     "name": "stdout",
     "output_type": "stream",
     "text": [
      "Employee code 5   deleted\n"
     ]
    }
   ],
   "source": [
    "import mysql.connector as mysql\n",
    "\n",
    "db = mysql.connect(\n",
    "    host = \"localhost\",\n",
    "    user = \"root\",\n",
    "    passwd = \"zspl@123\",\n",
    "    auth_plugin ='mysql_native_password',\n",
    "    database ='testdb'\n",
    ")\n",
    "\n",
    "cursor = db.cursor()\n",
    "\n",
    "## defining the Query\n",
    "query = \"DELETE FROM employees WHERE empcode = 5\"\n",
    "\n",
    "## executing the query\n",
    "cursor.execute(query)\n",
    "\n",
    "## final step to tell the database that we have changed the table data\n",
    "db.commit()\n",
    "print(\"Employee code 5  deleted\")"
   ]
  },
  {
   "cell_type": "code",
   "execution_count": 77,
   "metadata": {},
   "outputs": [
    {
     "name": "stdout",
     "output_type": "stream",
     "text": [
      "Employee code 2   updated\n"
     ]
    }
   ],
   "source": [
    "import mysql.connector as mysql\n",
    "\n",
    "db = mysql.connect(\n",
    "    host = \"localhost\",\n",
    "    user = \"root\",\n",
    "    passwd = \"zspl@123\",\n",
    "    auth_plugin ='mysql_native_password',\n",
    "    database ='testdb'\n",
    ")\n",
    "\n",
    "cursor = db.cursor()\n",
    "\n",
    "## defining the Query\n",
    "query = \"UPDATE employees SET name = 'Kareem' WHERE empcode = 2\"\n",
    "\n",
    "## executing the query\n",
    "cursor.execute(query)\n",
    "\n",
    "## final step to tell the database that we have changed the table data\n",
    "db.commit()\n",
    "print(\"Employee code 2  updated\")"
   ]
  },
  {
   "cell_type": "code",
   "execution_count": null,
   "metadata": {
    "collapsed": true
   },
   "outputs": [],
   "source": []
  }
 ],
 "metadata": {
  "kernelspec": {
   "display_name": "Python 3",
   "language": "python",
   "name": "python3"
  },
  "language_info": {
   "codemirror_mode": {
    "name": "ipython",
    "version": 3
   },
   "file_extension": ".py",
   "mimetype": "text/x-python",
   "name": "python",
   "nbconvert_exporter": "python",
   "pygments_lexer": "ipython3",
   "version": "3.6.3"
  }
 },
 "nbformat": 4,
 "nbformat_minor": 2
}
